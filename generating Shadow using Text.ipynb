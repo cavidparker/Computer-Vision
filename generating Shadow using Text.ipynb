{
 "cells": [
  {
   "cell_type": "code",
   "execution_count": 2,
   "metadata": {},
   "outputs": [],
   "source": [
    "from wand.color import Color\n",
    "from wand.compat import nested\n",
    "from wand.drawing import Drawing\n",
    "from wand.image import Image"
   ]
  },
  {
   "cell_type": "code",
   "execution_count": 16,
   "metadata": {},
   "outputs": [],
   "source": [
    "dimensions = {'width': 450,\n",
    "              'height': 100}"
   ]
  },
  {
   "cell_type": "code",
   "execution_count": 24,
   "metadata": {},
   "outputs": [],
   "source": [
    "with nested(Image(background=Color('white'), **dimensions),\n",
    "            Image(background=Color('transparent'), **dimensions)) as (bg, shadow):\n",
    "    # Draw the drop shadow\n",
    "    with Drawing() as ctx:\n",
    "        ctx.fill_color = Color('rgba(3, 3, 3, 0.6)')\n",
    "        ctx.font_size = 64\n",
    "        ctx.text(50, 75, 'Hello World !')\n",
    "        ctx(shadow)\n",
    "    # Apply filter\n",
    "    shadow.gaussian_blur(4, 4)\n",
    "    # Draw text\n",
    "    with Drawing() as ctx:\n",
    "        ctx.fill_color = Color('firebrick')\n",
    "        ctx.font_size = 64\n",
    "        ctx.text(48, 73, 'Hello World !')\n",
    "        ctx(shadow)\n",
    "    bg.composite(shadow, 0, 0)\n",
    "    bg.save(filename='/home/shahidul/Desktop/cavid/out.png')"
   ]
  },
  {
   "cell_type": "code",
   "execution_count": null,
   "metadata": {},
   "outputs": [],
   "source": []
  }
 ],
 "metadata": {
  "kernelspec": {
   "display_name": "Python 3",
   "language": "python",
   "name": "python3"
  },
  "language_info": {
   "codemirror_mode": {
    "name": "ipython",
    "version": 3
   },
   "file_extension": ".py",
   "mimetype": "text/x-python",
   "name": "python",
   "nbconvert_exporter": "python",
   "pygments_lexer": "ipython3",
   "version": "3.6.8"
  }
 },
 "nbformat": 4,
 "nbformat_minor": 2
}
